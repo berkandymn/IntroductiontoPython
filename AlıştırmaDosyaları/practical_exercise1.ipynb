{
  "nbformat": 4,
  "nbformat_minor": 0,
  "metadata": {
    "colab": {
      "name": "practical_exercise1.ipynb",
      "provenance": [],
      "collapsed_sections": []
    },
    "kernelspec": {
      "name": "python3",
      "display_name": "Python 3"
    },
    "language_info": {
      "name": "python"
    }
  },
  "cells": [
    {
      "cell_type": "markdown",
      "source": [
        "# Practical exercise 1:  Plan an exciting adventure with a new friend\n",
        "\n",
        "Welcome to your first practical exercise for this course. Here you will get a chance to practice the concepts we've covered in the video lessons from the module and apply your new coding skills to plan an exciting adventure with a new friend you meet online."
      ],
      "metadata": {
        "id": "tBDsFMQwBs6Z"
      }
    },
    {
      "cell_type": "markdown",
      "source": [
        "##Warm up\n",
        "\n",
        "For this exercise, you will have to read the instructions, then write and run the code block. \n",
        "\n",
        "Let's test this. Do you remember all the keywords in Python? Probably not, but there is a quick and easy way to check them here.  \n",
        "\n",
        "1. Write the help() function in the code cell below and run the code. \n",
        "2. In the prompt that appears, type \"keywords\" and they will pop up."
      ],
      "metadata": {
        "id": "ymULFKyosM3d"
      }
    },
    {
      "cell_type": "code",
      "source": [
        ""
      ],
      "metadata": {
        "id": "0w6HGZBvsvru"
      },
      "execution_count": null,
      "outputs": []
    },
    {
      "cell_type": "markdown",
      "source": [
        "🧨 Is the code cell above still running? If so, you can't continue!\n",
        "\n",
        "💣 Click the stop button next to the cell. Otherwise, it will continue to run infinitely and you will not be able to run other cells."
      ],
      "metadata": {
        "id": "kG-nBjLU1WPC"
      }
    },
    {
      "cell_type": "markdown",
      "source": [
        "# Meet Amir\n",
        "\n",
        "Let's say you are browsing the internet, when a pop up message shows on your screen, someone wants to meet you. \n",
        " "
      ],
      "metadata": {
        "id": "cnWVzlo1vBy8"
      }
    },
    {
      "cell_type": "code",
      "source": [
        "#Run this cell to see the message\n",
        "message = \"Hello, my name is Amir! Nice to meet you. What is yours?\"\n",
        "print(message)"
      ],
      "metadata": {
        "id": "JFUdDbEW7GqB"
      },
      "execution_count": null,
      "outputs": []
    },
    {
      "cell_type": "markdown",
      "source": [
        "Now, how would you answer Amir? \n",
        "\n",
        "Use the cell below to prepare an answer for him with a greeting and your name and print it to the screen. \n",
        "\n",
        "📌 We use the built-in function print() in Python to show results as output."
      ],
      "metadata": {
        "id": "Yr7uQq1J2k6p"
      }
    },
    {
      "cell_type": "code",
      "source": [
        "#Write your answer and print it on the screen\n"
      ],
      "metadata": {
        "id": "8S1F2r8NtEoN"
      },
      "execution_count": null,
      "outputs": []
    },
    {
      "cell_type": "markdown",
      "source": [
        "Good job! Right away Amir writes you back with an intriguing question. He says, \"Would you like to plan an exciting adventure with me today?\" Well, why not! But before you start planning, maybe you need to learn a little bit more about each other."
      ],
      "metadata": {
        "id": "Vgv4mhyZEWR6"
      }
    },
    {
      "cell_type": "markdown",
      "source": [
        "#Get to know each other\n",
        "\n",
        "You ask Amir to tell you a little bit about himself, and here's what he tells you."
      ],
      "metadata": {
        "id": "QQIXQsmRwGqB"
      }
    },
    {
      "cell_type": "code",
      "source": [
        "#Run the cell to see his message\n",
        "his_age = 20\n",
        "his_height = 1.76\n",
        "his_hair_color = \"brunette\"\n",
        "his_hometown = \"Iran\"\n",
        "where_he_lives = \"Turkey\"\n",
        "\n",
        "print(\"I am\", str(his_age),\"years old,\",str(his_height),\"tall\",his_hair_color,\"guy from\",his_hometown,\"but I currently live in\",where_he_lives)\n",
        "\n",
        "print(\"What about you? Tell me about yourself.\")"
      ],
      "metadata": {
        "id": "dvTr4HR4wF4n"
      },
      "execution_count": null,
      "outputs": []
    },
    {
      "cell_type": "markdown",
      "source": [
        "Now it is your turn to share, but first some preparation is needed.\n",
        "\n",
        "1. Write in information about yourself using the variables below. \n",
        "2. If there's something you don't want to share, you can use comments. Just put a \"#\" symbol in front of the code line and Python will not execute that line of code.\n",
        "3. Check the datatype of each variable.\n",
        "\n",
        "📌 Remember that there are different data types in Python and in order to use them in a sentence you may have to convert some of them. "
      ],
      "metadata": {
        "id": "L7-zc-wR5982"
      }
    },
    {
      "cell_type": "code",
      "source": [
        "#Please assign your age, height and other details you want to share.\n",
        "\n",
        "\n",
        "#Check the data type of the variables you want to use.\n",
        "\n"
      ],
      "metadata": {
        "id": "MDTV-mOZBVOw"
      },
      "execution_count": null,
      "outputs": []
    },
    {
      "cell_type": "markdown",
      "source": [
        "Great, now that you know what you want to share and which variables need to be converted to strings, you're ready to write your sentence. "
      ],
      "metadata": {
        "id": "SDnrjsw7IC7Z"
      }
    },
    {
      "cell_type": "code",
      "source": [
        "#Write a sentence using the print function to describe yourself using the variables above in the correct data type\n"
      ],
      "metadata": {
        "id": "0U8slyfyICeJ"
      },
      "execution_count": null,
      "outputs": []
    },
    {
      "cell_type": "markdown",
      "source": [
        "#Where to go and what to eat\n",
        "\n",
        "Now that you know each other a little better, you can start planning your adventure. But where do you start? \n",
        "\n",
        "Let's start with locations and food. Amir asks you to make a list of places in the world that you want to visit and meals that you like to eat.\n",
        " \n",
        "Create a list 'favorite_places_and_foods' that contains at least 5 places and 5 meals.\n"
      ],
      "metadata": {
        "id": "7ICXdJRy9SWZ"
      }
    },
    {
      "cell_type": "code",
      "source": [
        "#Create your list\n"
      ],
      "metadata": {
        "id": "FHdeAmG6Aw3h"
      },
      "execution_count": null,
      "outputs": []
    },
    {
      "cell_type": "markdown",
      "source": [
        "It's quite tough to choose from such great options. You need to narrow it down to three items per category. \n",
        "\n",
        "1. First you have to separate or 'slice' the places from the meals. \n",
        "2. Then select the first three items from the places list and the last ones from the foods list.\n",
        "3. Print the remaining options to the screen. \n",
        "\n",
        "📌 Do you remember the list slicing technique? For example, Mylist[1:3] will give the second and third value from Mylist."
      ],
      "metadata": {
        "id": "bHbGRpu2MmYH"
      }
    },
    {
      "cell_type": "code",
      "source": [
        "#Create two separate lists for places and foods using the list slicing technique\n",
        "\n",
        "\n",
        "#Select the first and last three from place and food lists\n",
        "\n",
        "\n",
        "#Print both lists\n"
      ],
      "metadata": {
        "id": "13LMxJu1CD-F"
      },
      "execution_count": null,
      "outputs": []
    },
    {
      "cell_type": "markdown",
      "source": [
        "It's quite hard to make a choice from these three. But why not let the computer choose for you? Do you remember the game of dice from our videos? Here is what you need to do.\n",
        "\n",
        "1. Import the random module\n",
        "2. Generate two random numbers between 0-2\n",
        "3. Use each number as the index to choose an item from your favourite-place and food lists\n",
        "4. Print the results to the screen\n"
      ],
      "metadata": {
        "id": "R5LG-XXHBFFM"
      }
    },
    {
      "cell_type": "code",
      "source": [
        "#Please import the random module and generate two random numbers between 0 and 2\n",
        "\n",
        "#Use the generated numbers as indexes of randomely chosen items from place and food lists\n"
      ],
      "metadata": {
        "id": "krGw2OUtC9y5"
      },
      "execution_count": null,
      "outputs": []
    },
    {
      "cell_type": "markdown",
      "source": [
        "You must have found your location and food. But what else would you like to do on your adventure?"
      ],
      "metadata": {
        "id": "XzBTqk1yPZsM"
      }
    },
    {
      "cell_type": "markdown",
      "source": [
        "#Activities \n",
        "\n",
        "Now, you have your place and meals, but after lunch there are still lots of activities that you can do together...or separately.\n",
        "\n",
        "Let's say there are three pre-defined options: playing chess, playing tennis and visiting a museum. Chess and tennis require both of you to participate, but you can visit the museum separately as well. \n",
        "\n",
        "We need a code to indicate which activities each of you would like to do and which ones will be able to do. A chance to use our logical operators. \n",
        "\n",
        "1. Define activities\n",
        "2. Use the operands 'True' and 'False' to indicate your and Amir's preference for each activity\n",
        "3. Use the logical operators 'and' and 'or' to define which activities you will be able to do\n",
        "\n",
        "📌 Please add in the responces for Amir as well, by the way he doesn't like sports, but loves board games. "
      ],
      "metadata": {
        "id": "9t9q1B-WbW4i"
      }
    },
    {
      "cell_type": "code",
      "source": [
        "first_activity = \"lets play chess in the park\"\n",
        "second_activiy = \"lets play a game of tennis\"\n",
        "third_activity = \"lets go to the museum\"\n",
        "\n",
        "#Write your and Amir's preference for each activity either as \"True\" or \"False\"\n",
        "\n",
        "#First activity\n",
        "first_activity_your = \n",
        "first_activity_friend = \n",
        "\n",
        "#Example statement\n",
        "print(\"We are going to play chess in the park! Answer:\" ,first_activity_your and first_activity_friend)\n",
        " \n",
        "#Second activity\n",
        "\n",
        " \n",
        "#Your turn to write the statement\n",
        "\n",
        "\n",
        "#Third activity\n",
        "\n",
        "#Your turn to write the statement \n"
      ],
      "metadata": {
        "id": "sNIV7420Yk-Y"
      },
      "execution_count": null,
      "outputs": []
    },
    {
      "cell_type": "markdown",
      "source": [
        "#Get a date\n",
        "\n",
        "Finally you know where to meet, what to eat and what do to. The only last thing to decide is when to meet. How would you ask Amir for the date and time he wants to go on this adventure with you? \n",
        "\n",
        "📌📌Hint: Use the input() function."
      ],
      "metadata": {
        "id": "p_jbzGubELqR"
      }
    },
    {
      "cell_type": "code",
      "source": [
        "#Create a variable for your trip date that asks Amir for an input\n",
        "\n",
        "\n",
        "#Print the date for the trip by using it in a sentence\n"
      ],
      "metadata": {
        "id": "jGxVfccGEMZB"
      },
      "execution_count": null,
      "outputs": []
    }
  ]
}